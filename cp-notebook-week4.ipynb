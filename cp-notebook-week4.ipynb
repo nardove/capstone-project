{
 "metadata": {
  "language_info": {
   "codemirror_mode": {
    "name": "ipython",
    "version": 3
   },
   "file_extension": ".py",
   "mimetype": "text/x-python",
   "name": "python",
   "nbconvert_exporter": "python",
   "pygments_lexer": "ipython3",
   "version": "3.7.6-final"
  },
  "orig_nbformat": 2,
  "kernelspec": {
   "name": "python37664bitcenvcondab061f27b372b45bf8bf910026ecc24db",
   "display_name": "Python 3.7.6 64-bit ('cenv': conda)",
   "language": "python"
  }
 },
 "nbformat": 4,
 "nbformat_minor": 2,
 "cells": [
  {
   "source": [
    "# Coursera Data Science Capstone Project\n",
    "\n",
    "Week 4 Assignment - The Battle of Neighbourhoods W1"
   ],
   "cell_type": "markdown",
   "metadata": {}
  },
  {
   "source": [
    "### Introduction\n",
    "\n",
    "Capstone project from Coursera course **IBM Data Science Professional Certificate**\n",
    "\n",
    "We have been task to come up with an idea or problem to solve using the skills and tools learnt during the course to investigate and explore geographical location using the Foursquare API.\n"
   ],
   "cell_type": "markdown",
   "metadata": {}
  },
  {
   "source": [
    "**The Problem**\n",
    "\n",
    "A new startup is looking to setup an office in Bournemouth, Dorset due to the popularity of the area in the creative and digital sectors.  We are interested in the best location to setup our business by taking into consideration features like transport, leisure, entertainment, shops, living expenses among others.\n",
    "\n",
    "**Background**\n",
    "\n",
    "There has been an increasing popularity of tech companies in the South West of England, Bournemouth in particular is seen as a potential creative, digital cluster because it boasts above average business start-up, with Bournemouth University and the Arts University College of Bournemouth both attracting talented students. [source](https://technation.techcityuk.com/cluster/bournemouth-and-poole/)\n",
    "\n",
    "The creative and digital economy accounts for eight per cent of the local GDP already and that figure is growing by 14 per cent a year.\n",
    "\n",
    "We aim to find a single or a couple of recomendations for the most optimal location for an office by the end of the project."
   ],
   "cell_type": "markdown",
   "metadata": {}
  },
  {
   "source": [
    "### Data"
   ],
   "cell_type": "markdown",
   "metadata": {}
  },
  {
   "source": [
    "Data from different sources will be use to explore and determine the best location(s) with most potential to setup and open an office in the area.\n",
    "\n",
    "Venue locations\n",
    "https://www.kaggle.com/r3w0p4/bournemouth-venues\n",
    "\n",
    "General Stats\n",
    "https://apps.geowessex.com/insights/AreaProfiles/PreUnitaryAuthority/bournemouth\n",
    "\n",
    "https://www.ons.gov.uk/\n",
    "\n",
    "PropertyData.co.uk (CSV)"
   ],
   "cell_type": "markdown",
   "metadata": {}
  },
  {
   "cell_type": "code",
   "execution_count": null,
   "metadata": {},
   "outputs": [],
   "source": []
  }
 ]
}