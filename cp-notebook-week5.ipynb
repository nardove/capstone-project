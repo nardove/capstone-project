{
 "metadata": {
  "language_info": {
   "codemirror_mode": {
    "name": "ipython",
    "version": 3
   },
   "file_extension": ".py",
   "mimetype": "text/x-python",
   "name": "python",
   "nbconvert_exporter": "python",
   "pygments_lexer": "ipython3",
   "version": "3.7.6-final"
  },
  "orig_nbformat": 2,
  "kernelspec": {
   "name": "python37664bitcenvcondab061f27b372b45bf8bf910026ecc24db",
   "display_name": "Python 3.7.6 64-bit ('cenv': conda)",
   "language": "python"
  }
 },
 "nbformat": 4,
 "nbformat_minor": 2,
 "cells": [
  {
   "source": [
    "# Coursera Data Science Capstone Project\n",
    "\n",
    "Week 5 Assignment - The Battle of Neighbourhoods W2"
   ],
   "cell_type": "markdown",
   "metadata": {}
  },
  {
   "source": [
    "### Introduction\n",
    "\n",
    "Capstone project from Coursera course **IBM Data Science Professional Certificate**\n",
    "\n",
    "We have been task to come up with an idea or problem to solve using the skills and tools learnt during the course to investigate and explore geographical location using the Foursquare API.\n"
   ],
   "cell_type": "markdown",
   "metadata": {}
  },
  {
   "source": [
    "**The Problem**\n",
    "\n",
    "A new startup is looking to setup an office in Bournemouth, Dorset due to the popularity of the area in the creative and digital sectors.  We are interested in the best location to setup our business by taking into consideration features like transport, leisure, entertainment, shops, living expenses among others.\n",
    "\n",
    "**Background**\n",
    "\n",
    "There has been an increasing popularity of tech companies in the South West of England, Bournemouth in particular is seen as a potential creative, digital cluster because it boasts above average business start-up, with Bournemouth University and the Arts University College of Bournemouth both attracting talented students. [source](https://technation.techcityuk.com/cluster/bournemouth-and-poole/)\n",
    "\n",
    "The creative and digital economy accounts for eight per cent of the local GDP already and that figure is growing by 14 per cent a year.\n",
    "\n",
    "We aim to find a single or a couple of recomendations for the most optimal location for an office by the end of the project."
   ],
   "cell_type": "markdown",
   "metadata": {}
  },
  {
   "source": [
    "### Data"
   ],
   "cell_type": "markdown",
   "metadata": {}
  },
  {
   "source": [
    "Data from different sources will be use to explore and determine the best location(s) with most potential to setup and open an office in the area.\n",
    "\n",
    "General Stats\n",
    "https://apps.geowessex.com/insights/AreaProfiles/PreUnitaryAuthority/bournemouth\n",
    "\n",
    "https://www.ons.gov.uk/\n",
    "\n",
    "PropertyData.co.uk (CSV)"
   ],
   "cell_type": "markdown",
   "metadata": {}
  },
  {
   "cell_type": "code",
   "execution_count": 2,
   "metadata": {},
   "outputs": [],
   "source": [
    "# Import necesary libraries to process the data\n",
    "\n",
    "import pandas as pd\n",
    "import numpy as np\n",
    "import folium\n",
    "import requests\n",
    "import matplotlib.cm as cm\n",
    "import matplotlib.colors as colors\n",
    "\n",
    "from pandas.io.json import json_normalize\n",
    "from urllib.request import urlopen as ureq\n",
    "from bs4 import BeautifulSoup as soup\n",
    "from sklearn.cluster import KMeans\n",
    "from geopy.geocoders import Nominatim\n",
    "from urllib.request import urlopen as ureq\n",
    "from bs4 import BeautifulSoup as soup"
   ]
  },
  {
   "source": [
    "I'll start by scraping a couple of general stats of Bournemouth from the [Dorset Insights](https://apps.geowessex.com/insights/AreaProfiles/PreUnitaryAuthority/bournemouth) website"
   ],
   "cell_type": "markdown",
   "metadata": {}
  },
  {
   "cell_type": "code",
   "execution_count": 129,
   "metadata": {},
   "outputs": [],
   "source": [
    "dorset_insights_url = 'https://apps.geowessex.com/insights/AreaProfiles/PreUnitaryAuthority/bournemouth'\n",
    "u_client = ureq(dorset_insights_url)\n",
    "page_html = u_client.read()\n",
    "u_client.close()"
   ]
  },
  {
   "cell_type": "code",
   "execution_count": 130,
   "metadata": {},
   "outputs": [],
   "source": [
    "page_soup = soup(page_html, 'html.parser')\n",
    "# print(page_soup)"
   ]
  },
  {
   "cell_type": "code",
   "execution_count": 146,
   "metadata": {},
   "outputs": [
    {
     "output_type": "stream",
     "name": "stdout",
     "text": [
      "Population columns: ['Total', 'Percentage', 'Dorset Council', 'England and Wales']\nPopulation rows: ['All Persons', 'All Males', 'All Females', '0-15 yrs', '16-64 yrs', '65+ yrs', 'Male 0-15 yrs', 'Male 16-64 yrs', 'Male 65+ yrs', 'Female 0-15 yrs', 'Female 16-64 yrs', 'Female 65+ yrs']\nBusiness Units columns: ['Total', 'Percentage']\nBusiness Units rows: ['Total businesses', 'Wholesale, retail and repair', 'Construction', 'Professional, scientific and technical activities', 'Accommodation and food services', 'Administrative and support service activities', 'Information and communications', 'Human heath and social work activites', 'Real estate activities', 'Manufacturing', 'Financial and insurance activities', 'Education', 'Arts, entertainment and recreation', 'Transportation and storage', 'Water, sewerage and waste management', 'Public administration and defence; compulsory social security', 'Agriculture, forestry and fishing', 'Electricity, gas, steam and air', 'Mining and quarrying']\n"
     ]
    }
   ],
   "source": [
    "# Get the features and indices names for the population and business_units dataframes\n",
    "\n",
    "def get_rows_cols(src_table):\n",
    "    trg_list = []\n",
    "    for el in src_table.find_all('th'):\n",
    "        trg_list.append(el.text.strip())\n",
    "    return trg_list\n",
    "\n",
    "di_population_table_rows = page_soup.find_all('table')[0].find_all('tbody')[0]\n",
    "di_population_table_cols = page_soup.find_all('table')[0].find_all('thead')[0].find_all('tr')[1]\n",
    "di_population_cols = get_rows_cols(di_population_table_cols)\n",
    "di_population_rows = get_rows_cols(di_population_table_rows)\n",
    "\n",
    "di_business_units_table_rows = page_soup.find_all('table')[10].find_all('tbody')[0]\n",
    "di_business_units_table_cols = page_soup.find_all('table')[10].find_all('thead')[0]\n",
    "di_business_units_cols = get_rows_cols(di_business_units_table_cols)\n",
    "di_business_units_rows = get_rows_cols(di_business_units_table_rows)\n",
    "\n",
    "\n",
    "print(f'Population columns: {di_population_cols}')\n",
    "print(f'Population rows: {di_population_rows}')\n",
    "print(f'Business Units columns: {di_business_units_cols}')\n",
    "print(f'Business Units rows: {di_business_units_rows}')"
   ]
  },
  {
   "source": [
    "### Methodology"
   ],
   "cell_type": "markdown",
   "metadata": {}
  },
  {
   "source": [
    "### Results"
   ],
   "cell_type": "markdown",
   "metadata": {}
  },
  {
   "source": [
    "### Discussion"
   ],
   "cell_type": "markdown",
   "metadata": {}
  },
  {
   "source": [
    "### Conclusion"
   ],
   "cell_type": "markdown",
   "metadata": {}
  },
  {
   "cell_type": "code",
   "execution_count": null,
   "metadata": {},
   "outputs": [],
   "source": []
  }
 ]
}